{
 "cells": [
  {
   "cell_type": "code",
   "execution_count": 2,
   "id": "fc383ad4",
   "metadata": {},
   "outputs": [],
   "source": [
    "# Lendo um arquivo(corpus) de texto\n",
    "with open('corretor-master/artigos.txt', 'r') as f:\n",
    "    artigos = f.read()"
   ]
  },
  {
   "cell_type": "code",
   "execution_count": 3,
   "id": "4d8bdc09",
   "metadata": {},
   "outputs": [
    {
     "name": "stdout",
     "output_type": "stream",
     "text": [
      "\n",
      "\n",
      "\n",
      "imagem \n",
      "\n",
      "Temos a seguinte classe que representa um usuário no nosso sistema:\n",
      "\n",
      "java\n",
      "\n",
      "Para salvar um novo usuário, várias validações são feitas, como por exemplo: Ver se o nome só contém letras, [**o CPF só números**] e ver se o usuário possui no mínimo 18 anos. Veja o método que faz essa validação:\n",
      "\n",
      "java \n",
      "\n",
      "Suponha agora que eu tenha outra classe, a classe `Produto`, que contém um atributo nome e eu quero fazer a mesma validação que fiz para o nome do usuário: Ver se só contém letras. E aí? Vou\n"
     ]
    }
   ],
   "source": [
    "# Visualisando os primeiros 500 caracteres\n",
    "print(artigos[:500])"
   ]
  },
  {
   "cell_type": "markdown",
   "id": "81d28ebd",
   "metadata": {},
   "source": [
    "> Observamos que onde contem trechos com imagens e códigos em nosso arquivo, são substituídos pela palavra \"imagem\" e \"java\"."
   ]
  },
  {
   "cell_type": "code",
   "execution_count": 5,
   "id": "fe03d3a0",
   "metadata": {},
   "outputs": [
    {
     "name": "stdout",
     "output_type": "stream",
     "text": [
      "['Olá,', 'tudo', 'bem?']\n"
     ]
    }
   ],
   "source": [
    "# Para entender melhor\n",
    "texto_exemplo = 'Olá, tudo bem?'\n",
    "palavras_separadas = texto_exemplo.split()\n",
    "print(palavras_separadas)"
   ]
  },
  {
   "cell_type": "markdown",
   "id": "ccc73cc1",
   "metadata": {},
   "source": [
    "> o método .split() particionou nossa frase, porém existe um detalhe, ele separoou a vírgula junto na primeira palavra 'Olá,' e o sinal de interrogação na última 'bem?'"
   ]
  },
  {
   "cell_type": "code",
   "execution_count": 6,
   "id": "473bd0fc",
   "metadata": {},
   "outputs": [
    {
     "name": "stdout",
     "output_type": "stream",
     "text": [
      "3\n"
     ]
    }
   ],
   "source": [
    "# Printando o tamando da lista\n",
    "print(len(palavras_separadas))"
   ]
  },
  {
   "cell_type": "code",
   "execution_count": 7,
   "id": "32121567",
   "metadata": {},
   "outputs": [
    {
     "name": "stdout",
     "output_type": "stream",
     "text": [
      "3\n",
      "['Olá,', 'tudo', 'bem?']\n"
     ]
    }
   ],
   "source": [
    "# Alterando o nome dá variavel palavras separadas\n",
    "tokens = palavras_separadas\n",
    "print(len(tokens))\n",
    "print(tokens)"
   ]
  },
  {
   "cell_type": "code",
   "execution_count": null,
   "id": "4ed33ad6",
   "metadata": {},
   "outputs": [],
   "source": []
  }
 ],
 "metadata": {
  "kernelspec": {
   "display_name": "Python 3",
   "language": "python",
   "name": "python3"
  },
  "language_info": {
   "codemirror_mode": {
    "name": "ipython",
    "version": 3
   },
   "file_extension": ".py",
   "mimetype": "text/x-python",
   "name": "python",
   "nbconvert_exporter": "python",
   "pygments_lexer": "ipython3",
   "version": "3.8.8"
  }
 },
 "nbformat": 4,
 "nbformat_minor": 5
}
