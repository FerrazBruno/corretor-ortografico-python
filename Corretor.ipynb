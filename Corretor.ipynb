{
 "cells": [
  {
   "cell_type": "markdown",
   "id": "ababa316",
   "metadata": {},
   "source": [
    "# Correto Ortográfico em Python: Aplicando técnicas de NLP"
   ]
  },
  {
   "cell_type": "markdown",
   "id": "28916335",
   "metadata": {},
   "source": [
    "## Importando um corpus textual"
   ]
  },
  {
   "cell_type": "code",
   "execution_count": 1,
   "id": "fc383ad4",
   "metadata": {},
   "outputs": [],
   "source": [
    "# Lendo um arquivo(corpus) de texto\n",
    "with open('corretor-master/artigos.txt', 'r', encoding='utf-8') as f:\n",
    "    artigos = f.read()"
   ]
  },
  {
   "cell_type": "code",
   "execution_count": 2,
   "id": "4d8bdc09",
   "metadata": {},
   "outputs": [
    {
     "name": "stdout",
     "output_type": "stream",
     "text": [
      "\n",
      "\n",
      "\n",
      "imagem \n",
      "\n",
      "Temos a seguinte classe que representa um usuário no nosso sistema:\n",
      "\n",
      "java\n",
      "\n",
      "Para salvar um novo usuário, várias validações são feitas, como por exemplo: Ver se o nome só contém letras, [**o CPF só números**] e ver se o usuário possui no mínimo 18 anos. Veja o método que faz essa validação:\n",
      "\n",
      "java \n",
      "\n",
      "Suponha agora que eu tenha outra classe, a classe `Produto`, que contém um atributo nome e eu quero fazer a mesma validação que fiz para o nome do usuário: Ver se só contém letras. E aí? Vou\n"
     ]
    }
   ],
   "source": [
    "# Visualisando os primeiros 500 caracteres\n",
    "print(artigos[:500])"
   ]
  },
  {
   "cell_type": "markdown",
   "id": "be36e40b",
   "metadata": {},
   "source": [
    "> Observamos que onde contem trechos com imagens e códigos em nosso arquivo, são substituídos pela palavra \"imagem\" e \"java\"."
   ]
  },
  {
   "cell_type": "markdown",
   "id": "1b19c634",
   "metadata": {},
   "source": [
    "## Tokenização"
   ]
  },
  {
   "cell_type": "code",
   "execution_count": 3,
   "id": "a6f3d2c5",
   "metadata": {},
   "outputs": [
    {
     "name": "stdout",
     "output_type": "stream",
     "text": [
      "['Olá,', 'tudo', 'bem?']\n"
     ]
    }
   ],
   "source": [
    "# Para entender melhor\n",
    "texto_exemplo = 'Olá, tudo bem?'\n",
    "palavras_separadas = texto_exemplo.split()\n",
    "print(palavras_separadas)"
   ]
  },
  {
   "cell_type": "markdown",
   "id": "7b708e51",
   "metadata": {},
   "source": [
    "> o método .split() particionou nossa frase, porém existe um detalhe, ele separoou a vírgula junto na primeira palavra 'Olá,' e o sinal de interrogação na última 'bem?'"
   ]
  },
  {
   "cell_type": "code",
   "execution_count": 4,
   "id": "a8032604",
   "metadata": {},
   "outputs": [
    {
     "name": "stdout",
     "output_type": "stream",
     "text": [
      "3\n"
     ]
    }
   ],
   "source": [
    "# Printando o tamando da lista\n",
    "print(len(palavras_separadas))"
   ]
  },
  {
   "cell_type": "code",
   "execution_count": 5,
   "id": "f3f8b588",
   "metadata": {},
   "outputs": [
    {
     "name": "stdout",
     "output_type": "stream",
     "text": [
      "3\n",
      "['Olá,', 'tudo', 'bem?']\n"
     ]
    }
   ],
   "source": [
    "# Alterando o nome dá variavel palavras separadas\n",
    "tokens = palavras_separadas\n",
    "print(len(tokens))\n",
    "print(tokens)"
   ]
  },
  {
   "cell_type": "markdown",
   "id": "650504a2",
   "metadata": {},
   "source": [
    "## Refinando a tokenização"
   ]
  },
  {
   "cell_type": "code",
   "execution_count": 6,
   "id": "017fda1b",
   "metadata": {},
   "outputs": [
    {
     "name": "stderr",
     "output_type": "stream",
     "text": [
      "[nltk_data] Downloading package punkt to /home/bruno/nltk_data...\n",
      "[nltk_data]   Package punkt is already up-to-date!\n"
     ]
    }
   ],
   "source": [
    "# Natural Language Toolkit\n",
    "import nltk\n",
    "nltk.download('punkt')\n",
    "palavras_separadas = nltk.tokenize.word_tokenize(texto_exemplo)"
   ]
  },
  {
   "cell_type": "code",
   "execution_count": 7,
   "id": "9eef35be",
   "metadata": {},
   "outputs": [
    {
     "data": {
      "text/plain": [
       "['Olá', ',', 'tudo', 'bem', '?']"
      ]
     },
     "execution_count": 7,
     "metadata": {},
     "output_type": "execute_result"
    }
   ],
   "source": [
    "# Visualizando\n",
    "palavras_separadas"
   ]
  },
  {
   "cell_type": "markdown",
   "id": "49c2d5eb",
   "metadata": {},
   "source": [
    "> Já observamos que agora a separação está correta, porém, não queremos pegar as pontuações."
   ]
  },
  {
   "cell_type": "markdown",
   "id": "6a8887aa",
   "metadata": {},
   "source": [
    "## Separando palavras de tokens"
   ]
  },
  {
   "cell_type": "code",
   "execution_count": 8,
   "id": "203bd80d",
   "metadata": {},
   "outputs": [
    {
     "data": {
      "text/plain": [
       "5"
      ]
     },
     "execution_count": 8,
     "metadata": {},
     "output_type": "execute_result"
    }
   ],
   "source": [
    "# Verificando a quantidade de palavras dentro de palavras_separadas\n",
    "len(palavras_separadas)"
   ]
  },
  {
   "cell_type": "code",
   "execution_count": 9,
   "id": "6a8aa17e",
   "metadata": {},
   "outputs": [],
   "source": [
    "# Criando uma função para separar as palavras das pontuações\n",
    "def separa_palavras(lista_tokens):\n",
    "    lista_palavras = []\n",
    "    for i in lista_tokens:\n",
    "        if i.isalpha():\n",
    "            lista_palavras.append(i)\n",
    "    return lista_palavras"
   ]
  },
  {
   "cell_type": "code",
   "execution_count": 10,
   "id": "7a1d9749",
   "metadata": {},
   "outputs": [
    {
     "data": {
      "text/plain": [
       "['Olá', 'tudo', 'bem']"
      ]
     },
     "execution_count": 10,
     "metadata": {},
     "output_type": "execute_result"
    }
   ],
   "source": [
    "# Testando a função\n",
    "separa_palavras(palavras_separadas)"
   ]
  },
  {
   "cell_type": "markdown",
   "id": "81f9cd81",
   "metadata": {},
   "source": [
    "> A função funcionou perfeitamente eliminando as pontuações que constam na lista de palavras separadas."
   ]
  },
  {
   "cell_type": "markdown",
   "id": "7ddf12c7",
   "metadata": {},
   "source": [
    "## Contando palavras do Corpus"
   ]
  },
  {
   "cell_type": "code",
   "execution_count": 11,
   "id": "81183105",
   "metadata": {},
   "outputs": [
    {
     "name": "stdout",
     "output_type": "stream",
     "text": [
      "O número de palavras dentro de nossa lista de palavras é: 403104\n"
     ]
    }
   ],
   "source": [
    "lista_tokens = nltk.tokenize.word_tokenize(artigos)\n",
    "lista_palavras = separa_palavras(lista_tokens)\n",
    "print(f'O número de palavras dentro de nossa lista de palavras é: {len(lista_palavras)}')"
   ]
  },
  {
   "cell_type": "markdown",
   "id": "279c1fbf",
   "metadata": {},
   "source": [
    "## Normalização"
   ]
  },
  {
   "cell_type": "markdown",
   "id": "22cdee0e",
   "metadata": {},
   "source": [
    "<p>Pegando apenas as palavras únicas detro da nossa lista</p>"
   ]
  },
  {
   "cell_type": "code",
   "execution_count": 12,
   "id": "ef103e7a",
   "metadata": {},
   "outputs": [
    {
     "data": {
      "text/plain": [
       "['imagem', 'Temos', 'a', 'seguinte', 'classe']"
      ]
     },
     "execution_count": 12,
     "metadata": {},
     "output_type": "execute_result"
    }
   ],
   "source": [
    "# Visualizando as 5 primeiras palavras\n",
    "lista_palavras[:5]"
   ]
  },
  {
   "cell_type": "code",
   "execution_count": 13,
   "id": "8e05ee9f",
   "metadata": {},
   "outputs": [
    {
     "data": {
      "text/plain": [
       "403104"
      ]
     },
     "execution_count": 13,
     "metadata": {},
     "output_type": "execute_result"
    }
   ],
   "source": [
    "len(lista_palavras)"
   ]
  },
  {
   "cell_type": "markdown",
   "id": "a82447bc",
   "metadata": {},
   "source": [
    "> A palavra 'Temos' tem uma letra maiúscula, se tiver outro exemplo como 'temos' com letra minúscula, será contabilizado como duas palavras, sendo que são a mesma."
   ]
  },
  {
   "cell_type": "code",
   "execution_count": 14,
   "id": "1e469973",
   "metadata": {},
   "outputs": [],
   "source": [
    "# Definindo a função de normalizar nossa lista\n",
    "def normalizacao(lista):\n",
    "    lista_normalizada = []\n",
    "    for palavra in lista:\n",
    "        lista_normalizada.append(palavra.lower())\n",
    "    return lista_normalizada"
   ]
  },
  {
   "cell_type": "code",
   "execution_count": 15,
   "id": "1f7af766",
   "metadata": {},
   "outputs": [
    {
     "name": "stdout",
     "output_type": "stream",
     "text": [
      "['imagem', 'temos', 'a', 'seguinte', 'classe', 'que', 'representa', 'um', 'usuário', 'no', 'nosso', 'sistema', 'java', 'para', 'salvar', 'um', 'novo', 'usuário', 'várias', 'validações', 'são', 'feitas', 'como', 'por', 'exemplo', 'ver', 'se', 'o', 'nome', 'só', 'contém', 'letras', 'o', 'cpf', 'só', 'números', 'e', 'ver', 'se', 'o', 'usuário', 'possui', 'no', 'mínimo', 'anos', 'veja', 'o', 'método', 'que', 'faz', 'essa', 'validação', 'java', 'suponha', 'agora', 'que', 'eu', 'tenha', 'outra', 'classe', 'a', 'classe', 'produto', 'que', 'contém', 'um', 'atributo', 'nome', 'e', 'eu', 'quero', 'fazer', 'a', 'mesma', 'validação', 'que', 'fiz', 'para', 'o', 'nome', 'do', 'usuário', 'ver', 'se', 'só', 'contém', 'letras', 'e', 'aí', 'vou', 'criar', 'outro', 'método', 'para', 'fazer', 'a', 'mesma', 'validação', 'ou', 'criar', 'uma', 'interface', 'ou', 'uma', 'classe', 'que', 'tanto', 'usuario', 'quanto', 'produto', 'estendem', 'não', 'faz', 'muito', 'sentido', 'né', 'como', 'resolver', 'esse', 'caso', 'sem', 'repetir', 'código', 'anotações', 'no', 'java', 'um', 'novo', 'recurso', 'foi', 'introduzido', 'à', 'linguagem', 'as', 'anotações', 'elas', 'permitem', 'que', 'metadados', 'sejam', 'escritos', 'diretamente', 'no', 'código', 'metadados', 'são', 'por', 'definição', 'dados', 'que', 'fazem', 'referência', 'aos', 'próprios', 'dados', 'para', 'nos', 'ajudar', 'a', 'entender', 'o', 'conceito', 'de', 'metadados', 'vou', 'usar', 'a', 'definição', 'feita', 'pelo', 'autor', 'eduardo', 'guerra', 'no', 'livro', 'componentes', 'reutilizáveis', 'em', 'java', 'com', 'reflexão', 'e', 'anotações', 'contexto', 'da', 'orientação', 'a', 'objetos', 'os', 'metadados', 'são', 'informações', 'sobre', 'do', 'código', 'essas', 'informações', 'podem', 'ser', 'definidas', 'em', 'qualquer', 'meio', 'que', 'o', 'software', 'ou', 'componente', 'as', 'recupere', 'e', 'as', 'utilize', 'para', 'agregar', 'nos', 'elementos', 'do', 'código', 'perceba', 'que', 'por', 'si', 'só', 'anotações', 'não', 'fazem', 'nada', 'elas', 'precisam', 'que', 'a', 'aplicação', 'as', 'recupere', 'e', 'as', 'utilize', 'para', 'que', 'só', 'assim', 'elas', 'consigam', 'nos', 'fornecer', 'algo', 'que', 'possamos', 'usar', 'para', 'realizar', 'alguma', 'tarefa', 'voltando', 'ao', 'nosso', 'problema', 'vamos', 'criar', 'uma', 'anotação', 'para', 'validar', 'a', 'idade', 'mínina', 'do', 'usuário', 'para', 'isso', 'vamos', 'anotar', 'nossa', 'classe', 'java', 'se', 'olharmos', 'nosso', 'código', 'perceberemos', 'que', 'ele', 'não', 'compila', 'pois', 'falta', 'implementarmos', 'a', 'anotação', 'idademinina', 'logo', 'precisamos', 'criar', 'uma', 'nova', 'classe', 'com', 'o', 'nome', 'idademinima', 'java', 'mas', 'pensando', 'bem', 'estamos', 'criando', 'uma', 'classe', 'não', 'estamos', 'portanto', 'a', 'nomenclatura', 'é', 'diferente', 'para', 'uma', 'anotação', 'a', 'forma', 'correta', 'seria', 'java', 'estranho', 'né', 'mas', 'foi', 'o', 'jeito', 'que', 'o', 'pessoal', 'do', 'java', 'fez', 'para', 'falar', 'que', 'esse', 'arquivo', 'se', 'trata', 'de', 'uma', 'anotação', 'agora', 'temos', 'que', 'anotar', 'nossa', 'interface', 'com', 'algumas', 'anotações', 'obrigatórias', 'para', 'que', 'o', 'java', 'entenda', 'onde', 'e', 'quando', 'sua', 'anotação', 'pode', 'ser', 'utilizada', 'sendo', 'elas', 'retention', 'aqui', 'nós', 'falaremos', 'para', 'a', 'nossa', 'aplicação', 'até', 'quando', 'nossa', 'anotação', 'estará', 'disponível', 'target', 'aqui', 'passaremos', 'os', 'elementos', 'que', 'podem', 'ser', 'anotados', 'com', 'essa', 'anotação', 'até', 'onde', 'nossa', 'anotação', 'estará', 'disponível', 'precisamos', 'que', 'ela', 'seja', 'executada', 'quando', 'o', 'usuário', 'enviar', 'os', 'seus', 'dados', 'e', 'isso', 'acontece', 'quando', 'nossa', 'aplicação', 'está', 'rodando', 'logo', 'precisamos', 'dela', 'em', 'tempo', 'de', 'execução', 'java', 'e', 'quem', 'será', 'anotado', 'que', 'elemento', 'faz', 'sentido', 'ser', 'anotado', 'com', 'uma', 'anotação', 'que', 'verifica', 'se', 'o', 'usuário', 'tem', 'idade', 'suficiente', 'um', 'atributo', 'certo', 'logo', 'um', 'java', 'agora', 'que', 'já', 'especificamos', 'o', 'contexto', 'da', 'nossa', 'anotação', 'precisamos', 'falar', 'qual', 'a', 'idade', 'mínima', 'que', 'a', 'nossa', 'anotação', 'deve', 'usar', 'para', 'validar', 'a', 'idade', 'do', 'usuário', 'para', 'isso', 'vamos', 'criar', 'uma', 'propriedade', 'na', 'nossa', 'anotação', 'chamada', 'valor', 'java', 'nossa', 'anotação', 'está']\n"
     ]
    }
   ],
   "source": [
    "# Atribuindo a função a uma variável\n",
    "lista_normalizada = normalizacao(lista_palavras)\n",
    "print(lista_normalizada[:500])"
   ]
  },
  {
   "cell_type": "markdown",
   "id": "f424b1f0",
   "metadata": {},
   "source": [
    "> Agora todas as palavras estão em letras minúsculas"
   ]
  },
  {
   "cell_type": "markdown",
   "id": "49eabb1a",
   "metadata": {},
   "source": [
    "## Tipos de palavras"
   ]
  },
  {
   "cell_type": "code",
   "execution_count": 16,
   "id": "c4853274",
   "metadata": {},
   "outputs": [
    {
     "data": {
      "text/plain": [
       "18465"
      ]
     },
     "execution_count": 16,
     "metadata": {},
     "output_type": "execute_result"
    }
   ],
   "source": [
    "# Aplicando o função set() que retorna um conjunto matemático, sendo assim, eliminando as palavras repetidas da lista\n",
    "len(set(lista_normalizada))"
   ]
  },
  {
   "cell_type": "markdown",
   "id": "eee74be9",
   "metadata": {},
   "source": [
    "> Agora com a normalização da lista, temos uma quantidade bem menor de palavras, 18465, bem diferente das 403104 que tinha antes."
   ]
  },
  {
   "cell_type": "markdown",
   "id": "0f317b2f",
   "metadata": {},
   "source": [
    "## Fatiando as strings"
   ]
  },
  {
   "cell_type": "code",
   "execution_count": 17,
   "id": "93a0792a",
   "metadata": {},
   "outputs": [],
   "source": [
    "# Operação de inserção\n",
    "def insere_letras(fatias):\n",
    "    novas_palavras = []\n",
    "    letras = 'abcdefghijklmnopqrstuvwxyzàáâãèéêìíîòóôõùúûç'\n",
    "    for E, D in fatias: # as fatias serão uma lista de tuplas com 2 valores dentro [('l', 'gica')]\n",
    "        for letra in letras:\n",
    "            novas_palavras.append(E + letra + D)\n",
    "    return novas_palavras"
   ]
  },
  {
   "cell_type": "code",
   "execution_count": 18,
   "id": "074a9a58",
   "metadata": {},
   "outputs": [],
   "source": [
    "palavra_exemplo = 'lgica'\n",
    "def gerador_de_palavras(palavra):\n",
    "    fatias= []\n",
    "    for i in range(len(palavra)+1): # +1 para ir além da última letra\n",
    "        fatias.append((palavra[:i], palavra[i:]))\n",
    "    palavras_geradas = insere_letras(fatias)\n",
    "    return palavras_geradas"
   ]
  },
  {
   "cell_type": "code",
   "execution_count": 19,
   "id": "b2cdef0e",
   "metadata": {},
   "outputs": [
    {
     "name": "stdout",
     "output_type": "stream",
     "text": [
      "['algica', 'blgica', 'clgica', 'dlgica', 'elgica', 'flgica', 'glgica', 'hlgica', 'ilgica', 'jlgica', 'klgica', 'llgica', 'mlgica', 'nlgica', 'olgica', 'plgica', 'qlgica', 'rlgica', 'slgica', 'tlgica', 'ulgica', 'vlgica', 'wlgica', 'xlgica', 'ylgica', 'zlgica', 'àlgica', 'álgica', 'âlgica', 'ãlgica', 'èlgica', 'élgica', 'êlgica', 'ìlgica', 'ílgica', 'îlgica', 'òlgica', 'ólgica', 'ôlgica', 'õlgica', 'ùlgica', 'úlgica', 'ûlgica', 'çlgica', 'lagica', 'lbgica', 'lcgica', 'ldgica', 'legica', 'lfgica', 'lggica', 'lhgica', 'ligica', 'ljgica', 'lkgica', 'llgica', 'lmgica', 'lngica', 'logica', 'lpgica', 'lqgica', 'lrgica', 'lsgica', 'ltgica', 'lugica', 'lvgica', 'lwgica', 'lxgica', 'lygica', 'lzgica', 'làgica', 'lágica', 'lâgica', 'lãgica', 'lègica', 'légica', 'lêgica', 'lìgica', 'lígica', 'lîgica', 'lògica', 'lógica', 'lôgica', 'lõgica', 'lùgica', 'lúgica', 'lûgica', 'lçgica', 'lgaica', 'lgbica', 'lgcica', 'lgdica', 'lgeica', 'lgfica', 'lggica', 'lghica', 'lgiica', 'lgjica', 'lgkica', 'lglica', 'lgmica', 'lgnica', 'lgoica', 'lgpica', 'lgqica', 'lgrica', 'lgsica', 'lgtica', 'lguica', 'lgvica', 'lgwica', 'lgxica', 'lgyica', 'lgzica', 'lgàica', 'lgáica', 'lgâica', 'lgãica', 'lgèica', 'lgéica', 'lgêica', 'lgìica', 'lgíica', 'lgîica', 'lgòica', 'lgóica', 'lgôica', 'lgõica', 'lgùica', 'lgúica', 'lgûica', 'lgçica', 'lgiaca', 'lgibca', 'lgicca', 'lgidca', 'lgieca', 'lgifca', 'lgigca', 'lgihca', 'lgiica', 'lgijca', 'lgikca', 'lgilca', 'lgimca', 'lginca', 'lgioca', 'lgipca', 'lgiqca', 'lgirca', 'lgisca', 'lgitca', 'lgiuca', 'lgivca', 'lgiwca', 'lgixca', 'lgiyca', 'lgizca', 'lgiàca', 'lgiáca', 'lgiâca', 'lgiãca', 'lgièca', 'lgiéca', 'lgiêca', 'lgiìca', 'lgiíca', 'lgiîca', 'lgiòca', 'lgióca', 'lgiôca', 'lgiõca', 'lgiùca', 'lgiúca', 'lgiûca', 'lgiçca', 'lgicaa', 'lgicba', 'lgicca', 'lgicda', 'lgicea', 'lgicfa', 'lgicga', 'lgicha', 'lgicia', 'lgicja', 'lgicka', 'lgicla', 'lgicma', 'lgicna', 'lgicoa', 'lgicpa', 'lgicqa', 'lgicra', 'lgicsa', 'lgicta', 'lgicua', 'lgicva', 'lgicwa', 'lgicxa', 'lgicya', 'lgicza', 'lgicàa', 'lgicáa', 'lgicâa', 'lgicãa', 'lgicèa', 'lgicéa', 'lgicêa', 'lgicìa', 'lgicía', 'lgicîa', 'lgicòa', 'lgicóa', 'lgicôa', 'lgicõa', 'lgicùa', 'lgicúa', 'lgicûa', 'lgicça', 'lgicaa', 'lgicab', 'lgicac', 'lgicad', 'lgicae', 'lgicaf', 'lgicag', 'lgicah', 'lgicai', 'lgicaj', 'lgicak', 'lgical', 'lgicam', 'lgican', 'lgicao', 'lgicap', 'lgicaq', 'lgicar', 'lgicas', 'lgicat', 'lgicau', 'lgicav', 'lgicaw', 'lgicax', 'lgicay', 'lgicaz', 'lgicaà', 'lgicaá', 'lgicaâ', 'lgicaã', 'lgicaè', 'lgicaé', 'lgicaê', 'lgicaì', 'lgicaí', 'lgicaî', 'lgicaò', 'lgicaó', 'lgicaô', 'lgicaõ', 'lgicaù', 'lgicaú', 'lgicaû', 'lgicaç']\n"
     ]
    }
   ],
   "source": [
    "palavras_geradas = gerador_de_palavras(palavra_exemplo)\n",
    "print(palavras_geradas)"
   ]
  },
  {
   "cell_type": "markdown",
   "id": "319898d4",
   "metadata": {},
   "source": [
    "## Construindo a função corretor"
   ]
  },
  {
   "cell_type": "code",
   "execution_count": 20,
   "id": "5944c5e2",
   "metadata": {},
   "outputs": [],
   "source": [
    "# Definindo a função que retorna a palavra correta\n",
    "def corretor(palavra):\n",
    "    palavras_geradas = gerador_de_palavras(palavra)\n",
    "    palavras_correta = max(palavras_geradas, key=probabilidade)\n",
    "    return palavras_correta"
   ]
  },
  {
   "cell_type": "markdown",
   "id": "9719d096",
   "metadata": {},
   "source": [
    "## Probabilidade das palavras geradas"
   ]
  },
  {
   "cell_type": "code",
   "execution_count": 21,
   "id": "2d545c0a",
   "metadata": {},
   "outputs": [
    {
     "data": {
      "text/plain": [
       "[('de', 15502),\n",
       " ('o', 14056),\n",
       " ('que', 12230),\n",
       " ('a', 11099),\n",
       " ('e', 10501),\n",
       " ('para', 7710),\n",
       " ('um', 6368),\n",
       " ('é', 5899),\n",
       " ('uma', 5220),\n",
       " ('do', 5124)]"
      ]
     },
     "execution_count": 21,
     "metadata": {},
     "output_type": "execute_result"
    }
   ],
   "source": [
    "frequencia = nltk.FreqDist(lista_normalizada)\n",
    "total_palavras = len(lista_normalizada)\n",
    "frequencia.most_common(10)"
   ]
  },
  {
   "cell_type": "code",
   "execution_count": 22,
   "id": "bb56de66",
   "metadata": {},
   "outputs": [
    {
     "data": {
      "text/plain": [
       "0.00023815194093831864"
      ]
     },
     "execution_count": 22,
     "metadata": {},
     "output_type": "execute_result"
    }
   ],
   "source": [
    "def probabilidade(palavra_gerada):\n",
    "    return frequencia[palavra_gerada] / total_palavras\n",
    "\n",
    "probabilidade('lógica')"
   ]
  },
  {
   "cell_type": "code",
   "execution_count": 23,
   "id": "3dee68f4",
   "metadata": {},
   "outputs": [
    {
     "data": {
      "text/plain": [
       "'lógica'"
      ]
     },
     "execution_count": 23,
     "metadata": {},
     "output_type": "execute_result"
    }
   ],
   "source": [
    "corretor(palavra_exemplo)"
   ]
  },
  {
   "cell_type": "markdown",
   "id": "f5d2b94e",
   "metadata": {},
   "source": [
    "# Avaliando a qualidade do corretor"
   ]
  },
  {
   "cell_type": "markdown",
   "id": "e5aa7baa",
   "metadata": {},
   "source": [
    "## Preparando dados de teste"
   ]
  },
  {
   "cell_type": "code",
   "execution_count": 24,
   "id": "2e7edbd1",
   "metadata": {},
   "outputs": [
    {
     "data": {
      "text/plain": [
       "[('podemos', 'pyodemos'),\n",
       " ('esse', 'esje'),\n",
       " ('já', 'jrá'),\n",
       " ('nosso', 'nossov'),\n",
       " ('são', 'sãêo'),\n",
       " ('dos', 'dosa'),\n",
       " ('muito', 'muifo'),\n",
       " ('imagem', 'iômagem'),\n",
       " ('sua', 'ósua'),\n",
       " ('também', 'tambéùm'),\n",
       " ('ele', 'eme'),\n",
       " ('fazer', 'èazer'),\n",
       " ('temos', 'temfs'),\n",
       " ('essa', 'eàssa'),\n",
       " ('quando', 'quaôdo'),\n",
       " ('vamos', 'vamvos'),\n",
       " ('sobre', 'hsobre'),\n",
       " ('java', 'sjava'),\n",
       " ('das', 'daõs'),\n",
       " ('agora', 'agorah'),\n",
       " ('está', 'eòtá'),\n",
       " ('cada', 'céda'),\n",
       " ('mesmo', 'zmesmo'),\n",
       " ('nos', 'noâ'),\n",
       " ('forma', 'fobma'),\n",
       " ('seja', 'sejéa'),\n",
       " ('então', 'enêão'),\n",
       " ('criar', 'èriar'),\n",
       " ('código', 'cóeigo'),\n",
       " ('caso', 'casío'),\n",
       " ('exemplo', 'áexemplo'),\n",
       " ('tem', 'tĩem'),\n",
       " ('usuário', 'usuárôio'),\n",
       " ('dados', 'dfados'),\n",
       " ('python', 'pgthon'),\n",
       " ('nossa', 'nossah'),\n",
       " ('além', 'alémè'),\n",
       " ('assim', 'asõim'),\n",
       " ('ter', 'teb'),\n",
       " ('até', 'atĩ'),\n",
       " ('bem', 'âem'),\n",
       " ('design', 'desigen'),\n",
       " ('trabalho', 'trabalàho'),\n",
       " ('foi', 'foo'),\n",
       " ('apenas', 'apenaũ'),\n",
       " ('empresa', 'empresà'),\n",
       " ('valor', 'valíor'),\n",
       " ('será', 'serr'),\n",
       " ('entre', 'entke'),\n",
       " ('método', 'méqodo'),\n",
       " ('precisamos', 'precisamops'),\n",
       " ('ainda', 'ainàa'),\n",
       " ('vai', 'van'),\n",
       " ('conteúdo', 'ûconteúdo'),\n",
       " ('seus', 'çeus'),\n",
       " ('eu', 'eû'),\n",
       " ('todos', 'todtos'),\n",
       " ('tempo', 'temeo'),\n",
       " ('sempre', 'semre'),\n",
       " ('qual', 'quakl'),\n",
       " ('ela', 'elaá'),\n",
       " ('só', 'síó'),\n",
       " ('utilizar', 'utiqizar'),\n",
       " ('projeto', 'prhojeto'),\n",
       " ('site', 'siàe'),\n",
       " ('sem', 'seém'),\n",
       " ('pelo', 'peln'),\n",
       " ('alura', 'aléra'),\n",
       " ('dia', 'tdia'),\n",
       " ('tudo', 'tuúo'),\n",
       " ('podemos', 'kpodemos'),\n",
       " ('esse', 'eẽsse'),\n",
       " ('já', 'jé'),\n",
       " ('nosso', 'nçosso'),\n",
       " ('são', 'sãô'),\n",
       " ('dos', 'odos'),\n",
       " ('muito', 'tuito'),\n",
       " ('imagem', 'imõgem'),\n",
       " ('sua', 'siua'),\n",
       " ('também', 'tamvbém'),\n",
       " ('ele', 'elpe'),\n",
       " ('fazer', 'façzer'),\n",
       " ('temos', 'teos'),\n",
       " ('essa', 'eũsa'),\n",
       " ('quando', 'quaìdo'),\n",
       " ('vamos', 'vjmos'),\n",
       " ('sobre', 'sxobre'),\n",
       " ('java', 'jkva'),\n",
       " ('das', 'dms'),\n",
       " ('agora', 'agtora'),\n",
       " ('está', 'esútá'),\n",
       " ('cada', 'cava'),\n",
       " ('mesmo', 'medmo'),\n",
       " ('nos', 'ános'),\n",
       " ('forma', 'forûa'),\n",
       " ('seja', 'smeja'),\n",
       " ('então', 'enjtão'),\n",
       " ('criar', 'criôar'),\n",
       " ('código', 'cóàigo'),\n",
       " ('caso', 'èaso'),\n",
       " ('exemplo', 'exbemplo'),\n",
       " ('tem', 'túem'),\n",
       " ('usuário', 'usuárin'),\n",
       " ('dados', 'daáos'),\n",
       " ('python', 'pythoçn'),\n",
       " ('nossa', 'nossk'),\n",
       " ('além', 'âlém'),\n",
       " ('assim', 'aóssim'),\n",
       " ('ter', 'tãer'),\n",
       " ('até', 'vté'),\n",
       " ('bem', 'búm'),\n",
       " ('design', 'íesign'),\n",
       " ('trabalho', 'trabèalho'),\n",
       " ('foi', 'kfoi'),\n",
       " ('apenas', 'aapenas'),\n",
       " ('empresa', 'pmpresa'),\n",
       " ('valor', 'valoqr'),\n",
       " ('será', 'sçerá'),\n",
       " ('entre', 'entró'),\n",
       " ('método', 'nétodo'),\n",
       " ('precisamos', 'prefcisamos'),\n",
       " ('ainda', 'sainda'),\n",
       " ('vai', 'uai'),\n",
       " ('conteúdo', 'cĩonteúdo'),\n",
       " ('seus', 'sâus'),\n",
       " ('eu', 'ìeu'),\n",
       " ('todos', 'todás'),\n",
       " ('tempo', 'utempo'),\n",
       " ('sempre', 'sempce'),\n",
       " ('qual', 'fual'),\n",
       " ('ela', 'elal'),\n",
       " ('só', 'skó'),\n",
       " ('utilizar', 'utilĩzar'),\n",
       " ('projeto', 'proójeto'),\n",
       " ('site', 'isite'),\n",
       " ('sem', 'secm'),\n",
       " ('pelo', 'pẽlo'),\n",
       " ('alura', 'aluéa'),\n",
       " ('dia', 'dil'),\n",
       " ('tudo', 'tudy'),\n",
       " ('ela', 'qelay'),\n",
       " ('só', 'sód'),\n",
       " ('utilizar', 'dtilizacr'),\n",
       " ('projeto', 'bprojõto'),\n",
       " ('site', 'ysiteo'),\n",
       " ('sem', 'sõêm'),\n",
       " ('pelo', 'peàli'),\n",
       " ('alura', 'asuraó'),\n",
       " ('dia', 'deiìa'),\n",
       " ('tudo', 'tuĩdoì'),\n",
       " ('ela', 'eúaa'),\n",
       " ('só', 'ró'),\n",
       " ('utilizar', 'utilizẽaçr'),\n",
       " ('projeto', 'prêjetó'),\n",
       " ('site', 'sqiqte'),\n",
       " ('sem', 'sũexm'),\n",
       " ('pelo', 'pçlxo'),\n",
       " ('alura', 'uluraa'),\n",
       " ('dia', 'dĩaz'),\n",
       " ('tudo', 'kzudo'),\n",
       " ('corretor', 'correptor'),\n",
       " ('tática', 'trtica'),\n",
       " ('empoderamento', 'ewpoderamento'),\n",
       " ('linux', 'lifux'),\n",
       " ('cachorro', 'cachoçro'),\n",
       " ('gato', 'îgato'),\n",
       " ('cavalo', 'cakvalo'),\n",
       " ('relógio', 'relógiuo'),\n",
       " ('canela', 'canelac'),\n",
       " ('tênis', 'tênisy'),\n",
       " ('ansiosa', 'anciosa'),\n",
       " ('ansiosa', 'ancciosa'),\n",
       " ('ansiosa', 'ansioa'),\n",
       " ('empoderamento', 'empoderamento'),\n",
       " ('asterisco', 'asterístico'),\n",
       " ('gratuito', 'gratuíto'),\n",
       " ('entretido', 'entertido'),\n",
       " ('ritmo', 'ritimo'),\n",
       " ('idiota', 'indiota'),\n",
       " ('tomara', 'tomare'),\n",
       " ('seja', 'seje'),\n",
       " ('prevalecer', 'provalecer'),\n",
       " ('esteja', 'esteje'),\n",
       " ('mendigo', 'mindigo'),\n",
       " ('cérebro', 'célebro'),\n",
       " ('perturbar', 'pertubar')]"
      ]
     },
     "execution_count": 24,
     "metadata": {},
     "output_type": "execute_result"
    }
   ],
   "source": [
    "def cria_dados_teste(nome_arquivo):\n",
    "    lista_palavras_teste = []\n",
    "    f = open(nome_arquivo, 'r')\n",
    "    for linha in f:\n",
    "        correto, incorreto = linha.split()\n",
    "        lista_palavras_teste.append((correto, incorreto))\n",
    "    f.close()\n",
    "    return lista_palavras_teste\n",
    "\n",
    "lista_teste = cria_dados_teste('corretor-master/palavras.txt')\n",
    "lista_teste"
   ]
  },
  {
   "cell_type": "markdown",
   "id": "9091e4b0",
   "metadata": {},
   "source": [
    "## Avaliando o corretor"
   ]
  },
  {
   "cell_type": "code",
   "execution_count": 25,
   "id": "b2e1d3ac",
   "metadata": {},
   "outputs": [
    {
     "name": "stdout",
     "output_type": "stream",
     "text": [
      "1.08% de 186 palavras.\n"
     ]
    }
   ],
   "source": [
    "def avaliador(testes):\n",
    "    numero_palavras = len(testes)\n",
    "    acertou = 0\n",
    "    for correta, errada in testes:\n",
    "        palavra_corrigida = corretor(errada)\n",
    "        if palavra_corrigida == correta:\n",
    "            acertou += 1\n",
    "    taxa_acerto = round(((acertou * 100) / numero_palavras), 2)\n",
    "    print(f'{taxa_acerto}% de {numero_palavras} palavras.')\n",
    "avaliador(lista_teste)"
   ]
  },
  {
   "cell_type": "markdown",
   "id": "c379adf6",
   "metadata": {},
   "source": [
    "## Operação de delete"
   ]
  },
  {
   "cell_type": "code",
   "execution_count": 26,
   "id": "628c8820",
   "metadata": {},
   "outputs": [],
   "source": [
    "def deletando_caracteres(fatias):\n",
    "    novas_palavras = []\n",
    "    for E, D in fatias: # as fatias serão uma lista de tuplas com 2 valores dentro [('l', 'gica')]\n",
    "        novas_palavras.append(E + D[1:])\n",
    "    return novas_palavras"
   ]
  },
  {
   "cell_type": "code",
   "execution_count": 28,
   "id": "ca0db67d",
   "metadata": {},
   "outputs": [
    {
     "name": "stdout",
     "output_type": "stream",
     "text": [
      "['alóigica', 'blóigica', 'clóigica', 'dlóigica', 'elóigica', 'flóigica', 'glóigica', 'hlóigica', 'ilóigica', 'jlóigica', 'klóigica', 'llóigica', 'mlóigica', 'nlóigica', 'olóigica', 'plóigica', 'qlóigica', 'rlóigica', 'slóigica', 'tlóigica', 'ulóigica', 'vlóigica', 'wlóigica', 'xlóigica', 'ylóigica', 'zlóigica', 'àlóigica', 'álóigica', 'âlóigica', 'ãlóigica', 'èlóigica', 'élóigica', 'êlóigica', 'ìlóigica', 'ílóigica', 'îlóigica', 'òlóigica', 'ólóigica', 'ôlóigica', 'õlóigica', 'ùlóigica', 'úlóigica', 'ûlóigica', 'çlóigica', 'laóigica', 'lbóigica', 'lcóigica', 'ldóigica', 'leóigica', 'lfóigica', 'lgóigica', 'lhóigica', 'lióigica', 'ljóigica', 'lkóigica', 'llóigica', 'lmóigica', 'lnóigica', 'loóigica', 'lpóigica', 'lqóigica', 'lróigica', 'lsóigica', 'ltóigica', 'luóigica', 'lvóigica', 'lwóigica', 'lxóigica', 'lyóigica', 'lzóigica', 'làóigica', 'láóigica', 'lâóigica', 'lãóigica', 'lèóigica', 'léóigica', 'lêóigica', 'lìóigica', 'líóigica', 'lîóigica', 'lòóigica', 'lóóigica', 'lôóigica', 'lõóigica', 'lùóigica', 'lúóigica', 'lûóigica', 'lçóigica', 'lóaigica', 'lóbigica', 'lócigica', 'lódigica', 'lóeigica', 'lófigica', 'lógigica', 'lóhigica', 'lóiigica', 'lójigica', 'lókigica', 'lóligica', 'lómigica', 'lónigica', 'lóoigica', 'lópigica', 'lóqigica', 'lórigica', 'lósigica', 'lótigica', 'lóuigica', 'lóvigica', 'lówigica', 'lóxigica', 'lóyigica', 'lózigica', 'lóàigica', 'lóáigica', 'lóâigica', 'lóãigica', 'lóèigica', 'lóéigica', 'lóêigica', 'lóìigica', 'lóíigica', 'lóîigica', 'lóòigica', 'lóóigica', 'lóôigica', 'lóõigica', 'lóùigica', 'lóúigica', 'lóûigica', 'lóçigica', 'lóiagica', 'lóibgica', 'lóicgica', 'lóidgica', 'lóiegica', 'lóifgica', 'lóiggica', 'lóihgica', 'lóiigica', 'lóijgica', 'lóikgica', 'lóilgica', 'lóimgica', 'lóingica', 'lóiogica', 'lóipgica', 'lóiqgica', 'lóirgica', 'lóisgica', 'lóitgica', 'lóiugica', 'lóivgica', 'lóiwgica', 'lóixgica', 'lóiygica', 'lóizgica', 'lóiàgica', 'lóiágica', 'lóiâgica', 'lóiãgica', 'lóiègica', 'lóiégica', 'lóiêgica', 'lóiìgica', 'lóiígica', 'lóiîgica', 'lóiògica', 'lóiógica', 'lóiôgica', 'lóiõgica', 'lóiùgica', 'lóiúgica', 'lóiûgica', 'lóiçgica', 'lóigaica', 'lóigbica', 'lóigcica', 'lóigdica', 'lóigeica', 'lóigfica', 'lóiggica', 'lóighica', 'lóigiica', 'lóigjica', 'lóigkica', 'lóiglica', 'lóigmica', 'lóignica', 'lóigoica', 'lóigpica', 'lóigqica', 'lóigrica', 'lóigsica', 'lóigtica', 'lóiguica', 'lóigvica', 'lóigwica', 'lóigxica', 'lóigyica', 'lóigzica', 'lóigàica', 'lóigáica', 'lóigâica', 'lóigãica', 'lóigèica', 'lóigéica', 'lóigêica', 'lóigìica', 'lóigíica', 'lóigîica', 'lóigòica', 'lóigóica', 'lóigôica', 'lóigõica', 'lóigùica', 'lóigúica', 'lóigûica', 'lóigçica', 'lóigiaca', 'lóigibca', 'lóigicca', 'lóigidca', 'lóigieca', 'lóigifca', 'lóigigca', 'lóigihca', 'lóigiica', 'lóigijca', 'lóigikca', 'lóigilca', 'lóigimca', 'lóiginca', 'lóigioca', 'lóigipca', 'lóigiqca', 'lóigirca', 'lóigisca', 'lóigitca', 'lóigiuca', 'lóigivca', 'lóigiwca', 'lóigixca', 'lóigiyca', 'lóigizca', 'lóigiàca', 'lóigiáca', 'lóigiâca', 'lóigiãca', 'lóigièca', 'lóigiéca', 'lóigiêca', 'lóigiìca', 'lóigiíca', 'lóigiîca', 'lóigiòca', 'lóigióca', 'lóigiôca', 'lóigiõca', 'lóigiùca', 'lóigiúca', 'lóigiûca', 'lóigiçca', 'lóigicaa', 'lóigicba', 'lóigicca', 'lóigicda', 'lóigicea', 'lóigicfa', 'lóigicga', 'lóigicha', 'lóigicia', 'lóigicja', 'lóigicka', 'lóigicla', 'lóigicma', 'lóigicna', 'lóigicoa', 'lóigicpa', 'lóigicqa', 'lóigicra', 'lóigicsa', 'lóigicta', 'lóigicua', 'lóigicva', 'lóigicwa', 'lóigicxa', 'lóigicya', 'lóigicza', 'lóigicàa', 'lóigicáa', 'lóigicâa', 'lóigicãa', 'lóigicèa', 'lóigicéa', 'lóigicêa', 'lóigicìa', 'lóigicía', 'lóigicîa', 'lóigicòa', 'lóigicóa', 'lóigicôa', 'lóigicõa', 'lóigicùa', 'lóigicúa', 'lóigicûa', 'lóigicça', 'lóigicaa', 'lóigicab', 'lóigicac', 'lóigicad', 'lóigicae', 'lóigicaf', 'lóigicag', 'lóigicah', 'lóigicai', 'lóigicaj', 'lóigicak', 'lóigical', 'lóigicam', 'lóigican', 'lóigicao', 'lóigicap', 'lóigicaq', 'lóigicar', 'lóigicas', 'lóigicat', 'lóigicau', 'lóigicav', 'lóigicaw', 'lóigicax', 'lóigicay', 'lóigicaz', 'lóigicaà', 'lóigicaá', 'lóigicaâ', 'lóigicaã', 'lóigicaè', 'lóigicaé', 'lóigicaê', 'lóigicaì', 'lóigicaí', 'lóigicaî', 'lóigicaò', 'lóigicaó', 'lóigicaô', 'lóigicaõ', 'lóigicaù', 'lóigicaú', 'lóigicaû', 'lóigicaç', 'óigica', 'ligica', 'lógica', 'lóiica', 'lóigca', 'lóigia', 'lóigic', 'lóigica']\n"
     ]
    }
   ],
   "source": [
    "# Adaptando a função gerador_de_palavras\n",
    "def gerador_de_palavras(palavra):\n",
    "    fatias= []\n",
    "    for i in range(len(palavra)+1): # +1 para ir além da última letra\n",
    "        fatias.append((palavra[:i], palavra[i:]))\n",
    "    palavras_geradas = insere_letras(fatias)\n",
    "    palavras_geradas += deletando_caracteres(fatias)\n",
    "    return palavras_geradas\n",
    "palavra_exemplo = 'lóigica'\n",
    "palavras_geradas = gerador_de_palavras(palavra_exemplo)\n",
    "print(palavras_geradas)"
   ]
  },
  {
   "cell_type": "code",
   "execution_count": 30,
   "id": "f9dcdc84",
   "metadata": {},
   "outputs": [
    {
     "name": "stdout",
     "output_type": "stream",
     "text": [
      "41.4% de 186 palavras.\n"
     ]
    }
   ],
   "source": [
    "avaliador(lista_teste)"
   ]
  },
  {
   "cell_type": "code",
   "execution_count": null,
   "id": "b7f9a6a7",
   "metadata": {},
   "outputs": [],
   "source": []
  }
 ],
 "metadata": {
  "kernelspec": {
   "display_name": "Python 3",
   "language": "python",
   "name": "python3"
  },
  "language_info": {
   "codemirror_mode": {
    "name": "ipython",
    "version": 3
   },
   "file_extension": ".py",
   "mimetype": "text/x-python",
   "name": "python",
   "nbconvert_exporter": "python",
   "pygments_lexer": "ipython3",
   "version": "3.8.8"
  }
 },
 "nbformat": 4,
 "nbformat_minor": 5
}
